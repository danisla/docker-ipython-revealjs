{
 "cells": [
  {
   "cell_type": "markdown",
   "metadata": {
    "slideshow": {
     "slide_type": "slide"
    }
   },
   "source": [
    "# IPython Reveal.js Example\n",
    "\n",
    "Hello World"
   ]
  },
  {
   "cell_type": "markdown",
   "metadata": {
    "slideshow": {
     "slide_type": "subslide"
    }
   },
   "source": [
    "## Convert Notebook to RST"
   ]
  },
  {
   "cell_type": "code",
   "execution_count": 1,
   "metadata": {
    "collapsed": false,
    "slideshow": {
     "slide_type": "fragment"
    }
   },
   "outputs": [
    {
     "name": "stderr",
     "output_type": "stream",
     "text": [
      "[NbConvertApp] Converting notebook ipython-revealjs-example.ipynb to rst\n",
      "[NbConvertApp] Writing 1339 bytes to ipython-revealjs-example.rst\n"
     ]
    }
   ],
   "source": [
    "%%bash\n",
    "ipython nbconvert ipython-revealjs-example.ipynb --to rst"
   ]
  },
  {
   "cell_type": "markdown",
   "metadata": {
    "slideshow": {
     "slide_type": "subslide"
    }
   },
   "source": [
    "## Convert Notebook to Reveal.js slides"
   ]
  },
  {
   "cell_type": "code",
   "execution_count": 2,
   "metadata": {
    "collapsed": false,
    "slideshow": {
     "slide_type": "fragment"
    }
   },
   "outputs": [
    {
     "name": "stderr",
     "output_type": "stream",
     "text": [
      "[NbConvertApp] Converting notebook ipython-revealjs-example.ipynb to slides\n",
      "[NbConvertApp] Writing 202845 bytes to ipython-revealjs-example.slides.html\n"
     ]
    }
   ],
   "source": [
    "%%bash\n",
    "ipython nbconvert ipython-revealjs-example.ipynb --to slides"
   ]
  },
  {
   "cell_type": "markdown",
   "metadata": {
    "slideshow": {
     "slide_type": "subslide"
    }
   },
   "source": [
    "## Convert Notebook and Start Slide Show"
   ]
  },
  {
   "cell_type": "code",
   "execution_count": 6,
   "metadata": {
    "collapsed": false,
    "slideshow": {
     "slide_type": "fragment"
    }
   },
   "outputs": [
    {
     "name": "stdout",
     "output_type": "stream",
     "text": [
      "Process is terminated.\n"
     ]
    }
   ],
   "source": [
    "%%bash\n",
    "function cleanup {\n",
    "    # Cleanup any old revealjs server\n",
    "    kill `pgrep -f \"python nbconvert\"` 2>/dev/null\n",
    "}\n",
    "trap cleanup EXIT INT\n",
    "\n",
    "# Start revealjs server with explict host and port (Docker friendly)\n",
    "ipython nbconvert \\\n",
    "    --ServePostProcessor.open_in_browser=False \\\n",
    "    --ServePostProcessor.ip=0.0.0.0 \\\n",
    "    --ServePostProcessor.port=8000 \\\n",
    "    ipython-revealjs-example.ipynb --to slides --post serve"
   ]
  }
 ],
 "metadata": {
  "celltoolbar": "Slideshow",
  "kernelspec": {
   "display_name": "Python 2",
   "language": "python",
   "name": "python2"
  },
  "language_info": {
   "codemirror_mode": {
    "name": "ipython",
    "version": 2
   },
   "file_extension": ".py",
   "mimetype": "text/x-python",
   "name": "python",
   "nbconvert_exporter": "python",
   "pygments_lexer": "ipython2",
   "version": "2.7.6"
  }
 },
 "nbformat": 4,
 "nbformat_minor": 0
}
